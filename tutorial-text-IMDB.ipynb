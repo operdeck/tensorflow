{
 "cells": [
  {
   "cell_type": "markdown",
   "metadata": {},
   "source": [
    "Text classification tutorial with movie reviews"
   ]
  },
  {
   "cell_type": "code",
   "execution_count": 13,
   "metadata": {},
   "outputs": [
    {
     "name": "stdout",
     "output_type": "stream",
     "text": [
      "1.10.0\n"
     ]
    }
   ],
   "source": [
    "import tensorflow as tf\n",
    "from tensorflow import keras\n",
    "\n",
    "import numpy as np\n",
    "\n",
    "print(tf.__version__)"
   ]
  },
  {
   "cell_type": "markdown",
   "metadata": {},
   "source": [
    "Load the data"
   ]
  },
  {
   "cell_type": "code",
   "execution_count": 14,
   "metadata": {},
   "outputs": [],
   "source": [
    "imdb = keras.datasets.imdb\n",
    "\n",
    "(train_data, train_labels), (test_data, test_labels) = imdb.load_data(num_words=10000)"
   ]
  },
  {
   "cell_type": "code",
   "execution_count": 15,
   "metadata": {},
   "outputs": [
    {
     "data": {
      "text/plain": [
       "[218, 189, 141, 550, 147]"
      ]
     },
     "execution_count": 15,
     "metadata": {},
     "output_type": "execute_result"
    }
   ],
   "source": [
    "[len(item) for item in train_data[0:5]]"
   ]
  },
  {
   "cell_type": "code",
   "execution_count": 16,
   "metadata": {},
   "outputs": [],
   "source": [
    "# A dictionary mapping words to an integer index\n",
    "word_index = imdb.get_word_index()\n",
    "\n",
    "# The first indices are reserved\n",
    "word_index = {k:(v+3) for k,v in word_index.items()} \n",
    "word_index[\"<PAD>\"] = 0\n",
    "word_index[\"<START>\"] = 1\n",
    "word_index[\"<UNK>\"] = 2  # unknown\n",
    "word_index[\"<UNUSED>\"] = 3\n",
    "\n",
    "reverse_word_index = dict([(value, key) for (key, value) in word_index.items()])\n",
    "\n",
    "def decode_review(text):\n",
    "    return ' '.join([reverse_word_index.get(i, '?') for i in text])"
   ]
  },
  {
   "cell_type": "code",
   "execution_count": 17,
   "metadata": {},
   "outputs": [
    {
     "name": "stdout",
     "output_type": "stream",
     "text": [
      "<START> this film was just brilliant casting location scenery story direction everyone's really suited the part they played and you could just imagine being there robert <UNK> is an amazing actor and now the same being director <UNK> father came from the same scottish island as myself so i loved the fact there was a real connection with this film the witty remarks throughout the film were great it was just brilliant so much that i bought the film as soon as it was released for <UNK> and would recommend it to everyone to watch and the fly fishing was amazing really cried at the end it was so sad and you know what they say if you cry at a film it must have been good and this definitely was also <UNK> to the two little boy's that played the <UNK> of norman and paul they were just brilliant children are often left out of the <UNK> list i think because the stars that play them all grown up are such a big profile for the whole film but these children are amazing and should be praised for what they have done don't you think the whole story was so lovely because it was true and was someone's life after all that was shared with us all\n",
      "<START> big hair big boobs bad music and a giant safety pin these are the words to best describe this terrible movie i love cheesy horror movies and i've seen hundreds but this had got to be on of the worst ever made the plot is paper thin and ridiculous the acting is an abomination the script is completely laughable the best is the end showdown with the cop and how he worked out who the killer is it's just so damn terribly written the clothes are sickening and funny in equal <UNK> the hair is big lots of boobs <UNK> men wear those cut <UNK> shirts that show off their <UNK> sickening that men actually wore them and the music is just <UNK> trash that plays over and over again in almost every scene there is trashy music boobs and <UNK> taking away bodies and the gym still doesn't close for <UNK> all joking aside this is a truly bad film whose only charm is to look back on the disaster that was the 80's and have a good old laugh at how bad everything was back then\n",
      "<START> this has to be one of the worst films of the 1990s when my friends i were watching this film being the target audience it was aimed at we just sat watched the first half an hour with our jaws touching the floor at how bad it really was the rest of the time everyone else in the theatre just started talking to each other leaving or generally crying into their popcorn that they actually paid money they had <UNK> working to watch this feeble excuse for a film it must have looked like a great idea on paper but on film it looks like no one in the film has a clue what is going on crap acting crap costumes i can't get across how <UNK> this is to watch save yourself an hour a bit of your life\n",
      "<START> the <UNK> <UNK> at storytelling the traditional sort many years after the event i can still see in my <UNK> eye an elderly lady my friend's mother retelling the battle of <UNK> she makes the characters come alive her passion is that of an eye witness one to the events on the <UNK> heath a mile or so from where she lives br br of course it happened many years before she was born but you wouldn't guess from the way she tells it the same story is told in bars the length and <UNK> of scotland as i discussed it with a friend one night in <UNK> a local cut in to give his version the discussion continued to closing time br br stories passed down like this become part of our being who doesn't remember the stories our parents told us when we were children they become our invisible world and as we grow older they maybe still serve as inspiration or as an emotional <UNK> fact and fiction blend with <UNK> role models warning stories <UNK> magic and mystery br br my name is <UNK> like my grandfather and his grandfather before him our protagonist introduces himself to us and also introduces the story that stretches back through generations it produces stories within stories stories that evoke the <UNK> wonder of scotland its rugged mountains <UNK> in <UNK> the stuff of legend yet <UNK> is <UNK> in reality this is what gives it its special charm it has a rough beauty and authenticity <UNK> with some of the finest <UNK> singing you will ever hear br br <UNK> <UNK> visits his grandfather in hospital shortly before his death he burns with frustration part of him <UNK> to be in the twenty first century to hang out in <UNK> but he is raised on the western <UNK> among a <UNK> speaking community br br yet there is a deeper conflict within him he <UNK> to know the truth the truth behind his <UNK> ancient stories where does fiction end and he wants to know the truth behind the death of his parents br br he is pulled to make a last <UNK> journey to the <UNK> of one of <UNK> most <UNK> mountains can the truth be told or is it all in stories br br in this story about stories we <UNK> bloody battles <UNK> lovers the <UNK> of old and the sometimes more <UNK> <UNK> of accepted truth in doing so we each connect with <UNK> as he lives the story of his own life br br <UNK> the <UNK> <UNK> is probably the most honest <UNK> and genuinely beautiful film of scotland ever made like <UNK> i got slightly annoyed with the <UNK> of hanging stories on more stories but also like <UNK> i <UNK> this once i saw the <UNK> picture ' forget the box office <UNK> of braveheart and its like you might even <UNK> the <UNK> famous <UNK> of the wicker man to see a film that is true to scotland this one is probably unique if you maybe <UNK> on it deeply enough you might even re <UNK> the power of storytelling and the age old question of whether there are some truths that cannot be told but only experienced\n",
      "<START> worst mistake of my life br br i picked this movie up at target for 5 because i figured hey it's sandler i can get some cheap laughs i was wrong completely wrong mid way through the film all three of my friends were asleep and i was still suffering worst plot worst script worst movie i have ever seen i wanted to hit my head up against a wall for an hour then i'd stop and you know why because it felt damn good upon bashing my head in i stuck that damn movie in the <UNK> and watched it burn and that felt better than anything else i've ever done it took american psycho army of darkness and kill bill just to get over that crap i hate you sandler for actually going through with this and ruining a whole day of my life\n"
     ]
    }
   ],
   "source": [
    "for i in range(5):\n",
    "    print(decode_review(train_data[i]))"
   ]
  },
  {
   "cell_type": "code",
   "execution_count": 18,
   "metadata": {
    "collapsed": true
   },
   "outputs": [],
   "source": [
    "train_data= keras.preprocessing.sequence.pad_sequences( train_data,\n",
    "                                                        value=word_index[\"<PAD>\"],\n",
    "                                                        padding='post',\n",
    "                                                        maxlen=256)\n",
    "test_data = keras.preprocessing.sequence.pad_sequences(test_data,\n",
    "                                                       value=word_index[\"<PAD>\"],\n",
    "                                                       padding='post',\n",
    "                                                       maxlen=256)"
   ]
  },
  {
   "cell_type": "code",
   "execution_count": 19,
   "metadata": {},
   "outputs": [
    {
     "data": {
      "text/plain": [
       "array([   1,   14,   22,   16,   43,  530,  973, 1622, 1385,   65,  458,\n",
       "       4468,   66, 3941,    4,  173,   36,  256,    5,   25,  100,   43,\n",
       "        838,  112,   50,  670,    2,    9,   35,  480,  284,    5,  150,\n",
       "          4,  172,  112,  167,    2,  336,  385,   39,    4,  172, 4536,\n",
       "       1111,   17,  546,   38,   13,  447,    4,  192,   50,   16,    6,\n",
       "        147, 2025,   19,   14,   22,    4, 1920, 4613,  469,    4,   22,\n",
       "         71,   87,   12,   16,   43,  530,   38,   76,   15,   13, 1247,\n",
       "          4,   22,   17,  515,   17,   12,   16,  626,   18,    2,    5,\n",
       "         62,  386,   12,    8,  316,    8,  106,    5,    4, 2223, 5244,\n",
       "         16,  480,   66, 3785,   33,    4,  130,   12,   16,   38,  619,\n",
       "          5,   25,  124,   51,   36,  135,   48,   25, 1415,   33,    6,\n",
       "         22,   12,  215,   28,   77,   52,    5,   14,  407,   16,   82,\n",
       "          2,    8,    4,  107,  117, 5952,   15,  256,    4,    2,    7,\n",
       "       3766,    5,  723,   36,   71,   43,  530,  476,   26,  400,  317,\n",
       "         46,    7,    4,    2, 1029,   13,  104,   88,    4,  381,   15,\n",
       "        297,   98,   32, 2071,   56,   26,  141,    6,  194, 7486,   18,\n",
       "          4,  226,   22,   21,  134,  476,   26,  480,    5,  144,   30,\n",
       "       5535,   18,   51,   36,   28,  224,   92,   25,  104,    4,  226,\n",
       "         65,   16,   38, 1334,   88,   12,   16,  283,    5,   16, 4472,\n",
       "        113,  103,   32,   15,   16, 5345,   19,  178,   32,    0,    0,\n",
       "          0,    0,    0,    0,    0,    0,    0,    0,    0,    0,    0,\n",
       "          0,    0,    0,    0,    0,    0,    0,    0,    0,    0,    0,\n",
       "          0,    0,    0,    0,    0,    0,    0,    0,    0,    0,    0,\n",
       "          0,    0,    0], dtype=int32)"
      ]
     },
     "execution_count": 19,
     "metadata": {},
     "output_type": "execute_result"
    }
   ],
   "source": [
    "train_data[0]"
   ]
  },
  {
   "cell_type": "code",
   "execution_count": 20,
   "metadata": {},
   "outputs": [
    {
     "data": {
      "text/plain": [
       "array([1, 0])"
      ]
     },
     "execution_count": 20,
     "metadata": {},
     "output_type": "execute_result"
    }
   ],
   "source": [
    "train_labels[0:2]"
   ]
  },
  {
   "cell_type": "code",
   "execution_count": 21,
   "metadata": {},
   "outputs": [
    {
     "name": "stdout",
     "output_type": "stream",
     "text": [
      "_________________________________________________________________\n",
      "Layer (type)                 Output Shape              Param #   \n",
      "=================================================================\n",
      "embedding_1 (Embedding)      (None, None, 16)          160000    \n",
      "_________________________________________________________________\n",
      "global_average_pooling1d_1 ( (None, 16)                0         \n",
      "_________________________________________________________________\n",
      "dense_2 (Dense)              (None, 16)                272       \n",
      "_________________________________________________________________\n",
      "dense_3 (Dense)              (None, 1)                 17        \n",
      "=================================================================\n",
      "Total params: 160,289\n",
      "Trainable params: 160,289\n",
      "Non-trainable params: 0\n",
      "_________________________________________________________________\n"
     ]
    }
   ],
   "source": [
    "# input shape is the vocabulary count used for the movie reviews (10,000 words)\n",
    "vocab_size = 10000\n",
    "\n",
    "model = keras.Sequential()\n",
    "model.add(keras.layers.Embedding(vocab_size, 16))\n",
    "model.add(keras.layers.GlobalAveragePooling1D())\n",
    "model.add(keras.layers.Dense(16, activation=tf.nn.relu))\n",
    "model.add(keras.layers.Dense(1, activation=tf.nn.sigmoid))\n",
    "\n",
    "model.summary()"
   ]
  },
  {
   "cell_type": "code",
   "execution_count": null,
   "metadata": {
    "collapsed": true
   },
   "outputs": [],
   "source": []
  },
  {
   "cell_type": "markdown",
   "metadata": {
    "collapsed": true
   },
   "source": [
    "model.compile(optimizer=tf.train.AdamOptimizer(),\n",
    "              loss='binary_crossentropy',\n",
    "              metrics=['accuracy'])"
   ]
  },
  {
   "cell_type": "code",
   "execution_count": 25,
   "metadata": {},
   "outputs": [],
   "source": [
    "x_val = train_data[:10000]\n",
    "partial_x_train = train_data[10000:]\n",
    "\n",
    "y_val = train_labels[:10000]\n",
    "partial_y_train = train_labels[10000:]"
   ]
  },
  {
   "cell_type": "code",
   "execution_count": 26,
   "metadata": {},
   "outputs": [
    {
     "name": "stdout",
     "output_type": "stream",
     "text": [
      "Train on 15000 samples, validate on 10000 samples\n",
      "Epoch 1/40\n",
      "15000/15000 [==============================] - 3s 183us/step - loss: 0.6918 - acc: 0.5245 - val_loss: 0.6903 - val_acc: 0.5409\n",
      "Epoch 2/40\n",
      "15000/15000 [==============================] - 2s 146us/step - loss: 0.6884 - acc: 0.5769 - val_loss: 0.6870 - val_acc: 0.6003\n",
      "Epoch 3/40\n",
      "15000/15000 [==============================] - 2s 147us/step - loss: 0.6849 - acc: 0.6186 - val_loss: 0.6839 - val_acc: 0.6298\n",
      "Epoch 4/40\n",
      "15000/15000 [==============================] - 2s 148us/step - loss: 0.6809 - acc: 0.6651 - val_loss: 0.6809 - val_acc: 0.5616\n",
      "Epoch 5/40\n",
      "15000/15000 [==============================] - 2s 148us/step - loss: 0.6759 - acc: 0.6823 - val_loss: 0.6745 - val_acc: 0.7096\n",
      "Epoch 6/40\n",
      "15000/15000 [==============================] - 2s 146us/step - loss: 0.6693 - acc: 0.7264 - val_loss: 0.6676 - val_acc: 0.7164\n",
      "Epoch 7/40\n",
      "15000/15000 [==============================] - 2s 147us/step - loss: 0.6606 - acc: 0.7319 - val_loss: 0.6589 - val_acc: 0.7219\n",
      "Epoch 8/40\n",
      "15000/15000 [==============================] - 2s 147us/step - loss: 0.6492 - acc: 0.7430 - val_loss: 0.6474 - val_acc: 0.7313\n",
      "Epoch 9/40\n",
      "15000/15000 [==============================] - 2s 149us/step - loss: 0.6348 - acc: 0.7529 - val_loss: 0.6321 - val_acc: 0.7466\n",
      "Epoch 10/40\n",
      "15000/15000 [==============================] - 2s 149us/step - loss: 0.6165 - acc: 0.7721 - val_loss: 0.6137 - val_acc: 0.7582\n",
      "Epoch 11/40\n",
      "15000/15000 [==============================] - 2s 147us/step - loss: 0.5952 - acc: 0.7730 - val_loss: 0.5939 - val_acc: 0.7647\n",
      "Epoch 12/40\n",
      "15000/15000 [==============================] - 2s 147us/step - loss: 0.5706 - acc: 0.7890 - val_loss: 0.5695 - val_acc: 0.7812\n",
      "Epoch 13/40\n",
      "15000/15000 [==============================] - 2s 151us/step - loss: 0.5434 - acc: 0.8048 - val_loss: 0.5453 - val_acc: 0.7937\n",
      "Epoch 14/40\n",
      "15000/15000 [==============================] - 2s 146us/step - loss: 0.5157 - acc: 0.8159 - val_loss: 0.5196 - val_acc: 0.8058\n",
      "Epoch 15/40\n",
      "15000/15000 [==============================] - 2s 148us/step - loss: 0.4876 - acc: 0.8273 - val_loss: 0.4942 - val_acc: 0.8155\n",
      "Epoch 16/40\n",
      "15000/15000 [==============================] - 2s 148us/step - loss: 0.4608 - acc: 0.8373 - val_loss: 0.4708 - val_acc: 0.8227\n",
      "Epoch 17/40\n",
      "15000/15000 [==============================] - 2s 148us/step - loss: 0.4343 - acc: 0.8497 - val_loss: 0.4490 - val_acc: 0.8342\n",
      "Epoch 18/40\n",
      "15000/15000 [==============================] - 2s 149us/step - loss: 0.4104 - acc: 0.8585 - val_loss: 0.4286 - val_acc: 0.8430\n",
      "Epoch 19/40\n",
      "15000/15000 [==============================] - 2s 147us/step - loss: 0.3886 - acc: 0.8663 - val_loss: 0.4107 - val_acc: 0.8474\n",
      "Epoch 20/40\n",
      "15000/15000 [==============================] - 2s 147us/step - loss: 0.3691 - acc: 0.8743 - val_loss: 0.3952 - val_acc: 0.8522\n",
      "Epoch 21/40\n",
      "15000/15000 [==============================] - 2s 148us/step - loss: 0.3513 - acc: 0.8795 - val_loss: 0.3814 - val_acc: 0.8557\n",
      "Epoch 22/40\n",
      "15000/15000 [==============================] - 2s 154us/step - loss: 0.3356 - acc: 0.8847 - val_loss: 0.3696 - val_acc: 0.8601\n",
      "Epoch 23/40\n",
      "15000/15000 [==============================] - 2s 148us/step - loss: 0.3218 - acc: 0.8881 - val_loss: 0.3597 - val_acc: 0.8625\n",
      "Epoch 24/40\n",
      "15000/15000 [==============================] - 2s 148us/step - loss: 0.3088 - acc: 0.8921 - val_loss: 0.3504 - val_acc: 0.8662\n",
      "Epoch 25/40\n",
      "15000/15000 [==============================] - 2s 148us/step - loss: 0.2973 - acc: 0.8969 - val_loss: 0.3426 - val_acc: 0.8670\n",
      "Epoch 26/40\n",
      "15000/15000 [==============================] - 2s 148us/step - loss: 0.2868 - acc: 0.9004 - val_loss: 0.3358 - val_acc: 0.8691\n",
      "Epoch 27/40\n",
      "15000/15000 [==============================] - 2s 152us/step - loss: 0.2774 - acc: 0.9017 - val_loss: 0.3297 - val_acc: 0.8705\n",
      "Epoch 28/40\n",
      "15000/15000 [==============================] - 2s 149us/step - loss: 0.2682 - acc: 0.9057 - val_loss: 0.3241 - val_acc: 0.8735\n",
      "Epoch 29/40\n",
      "15000/15000 [==============================] - 2s 150us/step - loss: 0.2600 - acc: 0.9081 - val_loss: 0.3197 - val_acc: 0.8740\n",
      "Epoch 30/40\n",
      "15000/15000 [==============================] - 2s 147us/step - loss: 0.2529 - acc: 0.9097 - val_loss: 0.3153 - val_acc: 0.8765\n",
      "Epoch 31/40\n",
      "15000/15000 [==============================] - 2s 148us/step - loss: 0.2450 - acc: 0.9127 - val_loss: 0.3117 - val_acc: 0.8771\n",
      "Epoch 32/40\n",
      "15000/15000 [==============================] - 2s 148us/step - loss: 0.2387 - acc: 0.9149 - val_loss: 0.3084 - val_acc: 0.8784\n",
      "Epoch 33/40\n",
      "15000/15000 [==============================] - 2s 148us/step - loss: 0.2317 - acc: 0.9181 - val_loss: 0.3056 - val_acc: 0.8794\n",
      "Epoch 34/40\n",
      "15000/15000 [==============================] - 2s 149us/step - loss: 0.2257 - acc: 0.9201 - val_loss: 0.3029 - val_acc: 0.8804\n",
      "Epoch 35/40\n",
      "15000/15000 [==============================] - 2s 148us/step - loss: 0.2203 - acc: 0.9222 - val_loss: 0.3005 - val_acc: 0.8810\n",
      "Epoch 36/40\n",
      "15000/15000 [==============================] - 2s 152us/step - loss: 0.2142 - acc: 0.9247 - val_loss: 0.2986 - val_acc: 0.8823\n",
      "Epoch 37/40\n",
      "15000/15000 [==============================] - 2s 147us/step - loss: 0.2090 - acc: 0.9275 - val_loss: 0.2971 - val_acc: 0.8817\n",
      "Epoch 38/40\n",
      "15000/15000 [==============================] - 2s 146us/step - loss: 0.2041 - acc: 0.9282 - val_loss: 0.2948 - val_acc: 0.8820\n",
      "Epoch 39/40\n",
      "15000/15000 [==============================] - 2s 147us/step - loss: 0.1988 - acc: 0.9319 - val_loss: 0.2935 - val_acc: 0.8826\n",
      "Epoch 40/40\n",
      "15000/15000 [==============================] - 2s 148us/step - loss: 0.1942 - acc: 0.9331 - val_loss: 0.2920 - val_acc: 0.8835\n"
     ]
    }
   ],
   "source": [
    "history = model.fit(partial_x_train,\n",
    "                    partial_y_train,\n",
    "                    epochs=40,\n",
    "                    batch_size=512,\n",
    "                    validation_data=(x_val, y_val),\n",
    "                    verbose=1)"
   ]
  },
  {
   "cell_type": "code",
   "execution_count": 27,
   "metadata": {},
   "outputs": [
    {
     "name": "stdout",
     "output_type": "stream",
     "text": [
      "25000/25000 [==============================] - 1s 27us/step\n",
      "[0.3071713090133667, 0.87344]\n"
     ]
    }
   ],
   "source": [
    "results = model.evaluate(test_data, test_labels)\n",
    "\n",
    "print(results)"
   ]
  },
  {
   "cell_type": "code",
   "execution_count": 28,
   "metadata": {},
   "outputs": [
    {
     "data": {
      "image/png": "[encoded data removed]",
      "text/plain": [
       "<matplotlib.figure.Figure at 0x13b2cfc50>"
      ]
     },
     "metadata": {},
     "output_type": "display_data"
    }
   ],
   "source": [
    "import matplotlib.pyplot as plt\n",
    "\n",
    "acc = history.history['acc']\n",
    "val_acc = history.history['val_acc']\n",
    "loss = history.history['loss']\n",
    "val_loss = history.history['val_loss']\n",
    "\n",
    "epochs = range(1, len(acc) + 1)\n",
    "\n",
    "# \"bo\" is for \"blue dot\"\n",
    "plt.plot(epochs, loss, 'bo', label='Training loss')\n",
    "# b is for \"solid blue line\"\n",
    "plt.plot(epochs, val_loss, 'b', label='Validation loss')\n",
    "plt.title('Training and validation loss')\n",
    "plt.xlabel('Epochs')\n",
    "plt.ylabel('Loss')\n",
    "plt.legend()\n",
    "\n",
    "plt.show()"
   ]
  },
  {
   "cell_type": "code",
   "execution_count": 30,
   "metadata": {},
   "outputs": [
    {
     "data": {
      "image/png": "[encoded data removed]",
      "text/plain": [
       "<matplotlib.figure.Figure at 0x13b2cf7f0>"
      ]
     },
     "metadata": {},
     "output_type": "display_data"
    }
   ],
   "source": [
    "plt.clf()   # clear figure\n",
    "acc_values = history.history['acc']\n",
    "val_acc_values = history.history['val_acc']\n",
    "\n",
    "plt.plot(epochs, acc, 'bo', label='Training acc')\n",
    "plt.plot(epochs, val_acc, 'b', label='Validation acc')\n",
    "plt.title('Training and validation accuracy')\n",
    "plt.xlabel('Epochs')\n",
    "plt.ylabel('Accuracy')\n",
    "plt.legend()\n",
    "\n",
    "plt.show()"
   ]
  },
  {
   "cell_type": "code",
   "execution_count": null,
   "metadata": {
    "collapsed": true
   },
   "outputs": [],
   "source": []
  }
 ],
 "metadata": {
  "kernelspec": {
   "display_name": "Python 3",
   "language": "python",
   "name": "python3"
  },
  "language_info": {
   "codemirror_mode": {
    "name": "ipython",
    "version": 3
   },
   "file_extension": ".py",
   "mimetype": "text/x-python",
   "name": "python",
   "nbconvert_exporter": "python",
   "pygments_lexer": "ipython3",
   "version": "3.6.2"
  }
 },
 "nbformat": 4,
 "nbformat_minor": 2
}
